{
 "cells": [
  {
   "cell_type": "code",
   "execution_count": 1,
   "id": "a25ac788-0abf-42b2-a152-c921cb0ea362",
   "metadata": {},
   "outputs": [],
   "source": [
    "from European_Option import European_Option"
   ]
  },
  {
   "cell_type": "code",
   "execution_count": 2,
   "id": "cc6f8113-98de-4276-ab7c-e6a711a3cbfa",
   "metadata": {},
   "outputs": [
    {
     "name": "stdout",
     "output_type": "stream",
     "text": [
      "_____________________________\n",
      "|          Results          |\n",
      "|---------------------------|\n",
      "|    Price    |   10.9701   |\n",
      "|    Delta    |   0.63588   |\n",
      "|    Gamma    |   0.0177    |\n",
      "|    Lambda   |   0.05796   |\n",
      "|    Theta    |   0.21791   |\n",
      "|    Vega     |   0.26557   |\n",
      "|    Rho      |   0.26309   |\n",
      "|    Epsilon  |   -0.31794  |\n",
      "|    Charm    |   0.30326   |\n",
      "|    Speed    |   -0.0001   |\n",
      "|    Color    |   -0.02718  |\n",
      "|    Vanna    |   -0.16943  |\n",
      "|    Veta     |   0.32348   |\n",
      "|    Vomma    |   0.04163   |\n",
      "|    Zomma    |   -0.05624  |\n",
      "|    Ultima   |   -0.54254  |\n",
      "|___________________________|\n"
     ]
    }
   ],
   "source": [
    "Option = European_Option(100,105,0,.2,.5,1,price=10.9701)\n",
    "price = Option.Price().round(4)\n",
    "delta = Option.Delta().round(5)\n",
    "gamma = Option.Gamma().round(5)\n",
    "lam = Option.Lambda().round(5)\n",
    "theta = Option.Theta().round(5)\n",
    "vega = Option.Vega().round(5)\n",
    "rho = Option.Rho().round(5)\n",
    "epsilon = Option.Epsilon().round(5)\n",
    "charm = Option.Charm().round(5)\n",
    "speed = Option.Speed().round(5)\n",
    "color = Option.Color().round(5)\n",
    "vanna = Option.Vanna().round(5)\n",
    "veta = Option.Veta().round(5)\n",
    "vomma = Option.Vomma().round(5)\n",
    "zomma = Option.Zomma().round(5)\n",
    "ultima = Option.Ultima().round(5)\n",
    "\n",
    "print('_____________________________')\n",
    "print('|          Results          |')\n",
    "print('|---------------------------|')\n",
    "print('|    Price    |  ',price,'  |')\n",
    "print('|    Delta    |  ',delta,'  |')\n",
    "print('|    Gamma    |  ',gamma,'   |')\n",
    "print('|    Lambda   |  ',lam,'  |')\n",
    "print('|    Theta    |  ',theta,'  |')\n",
    "print('|    Vega     |  ',vega,'  |')\n",
    "print('|    Rho      |  ',rho,'  |')\n",
    "print('|    Epsilon  |  ',epsilon,' |')\n",
    "print('|    Charm    |  ',charm,'  |')\n",
    "print('|    Speed    |  ',speed,'  |')\n",
    "print('|    Color    |  ',color,' |')\n",
    "print('|    Vanna    |  ',vanna,' |')\n",
    "print('|    Veta     |  ',veta,'  |')\n",
    "print('|    Vomma    |  ',vomma,'  |')\n",
    "print('|    Zomma    |  ',zomma,' |')\n",
    "print('|    Ultima   |  ',ultima,' |')\n",
    "print('|___________________________|')"
   ]
  },
  {
   "cell_type": "markdown",
   "id": "555073d8-c13f-4daf-ae9a-bad5d755bc1c",
   "metadata": {},
   "source": [
    "## References\n",
    "***\n",
    "Zhang, Peter G. (1998). _Exotic Options: A Guide to Second Generation Options 2nd Edition_,\n",
    "Pages 75-80."
   ]
  }
 ],
 "metadata": {
  "kernelspec": {
   "display_name": "Python 3",
   "language": "python",
   "name": "python3"
  },
  "language_info": {
   "codemirror_mode": {
    "name": "ipython",
    "version": 3
   },
   "file_extension": ".py",
   "mimetype": "text/x-python",
   "name": "python",
   "nbconvert_exporter": "python",
   "pygments_lexer": "ipython3",
   "version": "3.7.10"
  }
 },
 "nbformat": 4,
 "nbformat_minor": 5
}
